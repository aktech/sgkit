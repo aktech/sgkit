{
 "cells": [
  {
   "cell_type": "code",
   "execution_count": null,
   "metadata": {},
   "outputs": [],
   "source": [
    "def foo(x, y):\n",
    "#     print(x.shape)\n",
    "#     print(y.shape)\n",
    "    x, y = x[:, None, :], y[None, :, :]\n",
    "    x, y = np.repeat(x, x.shape[0], axis=-2), np.repeat(y, y.shape[1], axis=-3) \n",
    "#     print(\"=====1\")\n",
    "#     print(x.shape)\n",
    "#     print(y.shape)\n",
    "#     print(\"=====2\")\n",
    "    return euclidean(x, y)\n",
    "\n",
    "def foo2(x, y):\n",
    "    return euclidean(x[:, None, :], y[None, :, :])"
   ]
  },
  {
   "cell_type": "code",
   "execution_count": null,
   "metadata": {},
   "outputs": [],
   "source": [
    "def pairwise(x):\n",
    "    return da.blockwise(\n",
    "        # Lambda wraps reshape for broadcast\n",
    "        euclidean, 'jk', \n",
    "        x, 'ji', x, 'ki', \n",
    "        dtype='float64',\n",
    "        concatenate=True\n",
    "    )"
   ]
  },
  {
   "cell_type": "code",
   "execution_count": null,
   "metadata": {},
   "outputs": [],
   "source": [
    "cupy.asarray(pairwise(x).compute(scheduler=\"single-threaded\"))"
   ]
  },
  {
   "cell_type": "code",
   "execution_count": null,
   "metadata": {},
   "outputs": [],
   "source": [
    "pairwise(x).compute(scheduler=\"single-threaded\")"
   ]
  },
  {
   "cell_type": "code",
   "execution_count": null,
   "metadata": {},
   "outputs": [],
   "source": [
    "cs = cupy.random.RandomState(0)\n",
    "x = cs.randint(0, 3, size=(2, 10)).astype('f8')\n",
    "y = cs.randint(0, 3, size=(2, 10)).astype('f8')"
   ]
  },
  {
   "cell_type": "code",
   "execution_count": null,
   "metadata": {},
   "outputs": [],
   "source": [
    "x, y"
   ]
  },
  {
   "cell_type": "code",
   "execution_count": null,
   "metadata": {},
   "outputs": [],
   "source": [
    "foo2(x, y)"
   ]
  },
  {
   "cell_type": "code",
   "execution_count": null,
   "metadata": {},
   "outputs": [],
   "source": []
  },
  {
   "cell_type": "code",
   "execution_count": null,
   "metadata": {},
   "outputs": [],
   "source": [
    "import math\n",
    "import numpy as np\n",
    "import cupy\n",
    "\n",
    "from numba import guvectorize\n",
    "\n",
    "@guvectorize(  # type: ignore\n",
    "    [\n",
    "        \"void(float32[:], float32[:], float32[:])\",\n",
    "        \"void(float64[:], float64[:], float64[:])\",\n",
    "        \"void(int8[:], int8[:], float64[:])\",\n",
    "    ],\n",
    "    \"(n),(n)->()\", target='cuda'\n",
    ")\n",
    "def euclidean(x, y, out) -> None:\n",
    "    square_sum = 0.0\n",
    "    m = x.shape[0]\n",
    "    # Ignore missing values\n",
    "    for i in range(m):\n",
    "        if x[i] >= 0 and y[i] >= 0:\n",
    "            square_sum += (x[i] - y[i]) ** 2\n",
    "    out[0] = math.sqrt(square_sum)\n",
    "\n",
    "def foo1(x, y):\n",
    "    x, y = x[:, None, :], y[None, :, :]\n",
    "    x, y = np.repeat(x, x.shape[0], axis=-2), np.repeat(y, y.shape[1], axis=-3) \n",
    "    return euclidean(x, y)\n",
    "\n",
    "def foo2(x, y):\n",
    "    return euclidean(x[:, None, :], y[None, :, :])\n",
    "\n",
    "cs = cupy.random.RandomState(0)\n",
    "x = cs.randint(0, 3, size=(2, 10)).astype('f8')\n",
    "y = cs.randint(0, 3, size=(2, 10)).astype('f8')\n",
    "\n",
    "cupy.asarray(foo1(x, y))\n",
    "# cupy.asarray(foo2(x, y))"
   ]
  },
  {
   "cell_type": "code",
   "execution_count": null,
   "metadata": {},
   "outputs": [],
   "source": [
    "import math\n",
    "import numpy as np\n",
    "import cupy\n",
    "\n",
    "from numba import guvectorize\n",
    "\n",
    "@guvectorize(  # type: ignore\n",
    "    [\n",
    "        \"void(float32[:], float32[:], float32[:])\",\n",
    "        \"void(float64[:], float64[:], float64[:])\",\n",
    "        \"void(int8[:], int8[:], float64[:])\",\n",
    "    ],\n",
    "    \"(n),(n)->()\", target='cuda', fastmath=True\n",
    ")\n",
    "def g(x, y, out) -> None:\n",
    "    diff = 0.0\n",
    "    for i in range(x.shape[0]):\n",
    "        diff += x[i] - y[i]\n",
    "    out[0] = diff\n",
    "\n",
    "def foo_working(x, y):\n",
    "    x, y = x[:, None, :], y[None, :, :]\n",
    "    x, y = np.repeat(x, x.shape[0], axis=-2), np.repeat(y, y.shape[1], axis=-3) \n",
    "    return g(x, y)\n",
    "\n",
    "def foo_not_working(x, y):\n",
    "    return g(x[:, None, :], y[None, :, :])\n",
    "\n",
    "cs = cupy.random.RandomState(0)\n",
    "x = cs.randint(0, 3, size=(2, 10)).astype('f8')\n",
    "y = cs.randint(0, 3, size=(2, 10)).astype('f8')\n",
    "\n",
    "cupy.asarray(foo_working(x, y))\n",
    "# cupy.asarray(foo_not_working(x, y))"
   ]
  },
  {
   "cell_type": "code",
   "execution_count": null,
   "metadata": {},
   "outputs": [],
   "source": [
    "def foo2(x, y):\n",
    "    return euclidean(x[:, None, :], y[None, :, :])"
   ]
  },
  {
   "cell_type": "code",
   "execution_count": null,
   "metadata": {},
   "outputs": [],
   "source": [
    "cs = cupy.random.RandomState(0)\n",
    "x = cs.randint(0, 3, size=(2, 10)).astype('f8')\n",
    "y = cs.randint(0, 3, size=(2, 10)).astype('f8')\n",
    "cupy.asarray(foo2(x, y))"
   ]
  },
  {
   "cell_type": "code",
   "execution_count": null,
   "metadata": {},
   "outputs": [],
   "source": [
    "from sgkit.distance.api import pairwise_distance\n",
    "rs = da.random.RandomState(RandomState=cupy.random.RandomState)\n",
    "x = rs.randint(0, 3, size=(10000, 10000), dtype='i1', chunks=(2000, -1))\n",
    "x"
   ]
  },
  {
   "cell_type": "code",
   "execution_count": null,
   "metadata": {},
   "outputs": [],
   "source": [
    "%%time\n",
    "with ProgressBar(), ResourceProfiler() as prof:\n",
    "    out = pairwise_distance(x.rechunk((None, -1)), metric='euclidean')\n",
    "prof.visualize()"
   ]
  },
  {
   "cell_type": "code",
   "execution_count": null,
   "metadata": {},
   "outputs": [],
   "source": [
    "%%time\n",
    "with ProgressBar(), ResourceProfiler() as prof:\n",
    "    out = pairwise_distance(x.rechunk((None, -1)), metric='euclidean')\n",
    "prof.visualize()"
   ]
  },
  {
   "cell_type": "code",
   "execution_count": null,
   "metadata": {},
   "outputs": [],
   "source": []
  },
  {
   "cell_type": "code",
   "execution_count": null,
   "metadata": {},
   "outputs": [],
   "source": [
    "type(x)"
   ]
  },
  {
   "cell_type": "code",
   "execution_count": null,
   "metadata": {},
   "outputs": [],
   "source": [
    "import cupy\n",
    "import dask.array as da\n",
    "\n",
    "# generate chunked dask arrays of mamy numpy random arrays\n",
    "rs = da.random.RandomState()\n",
    "x = rs.normal(10, 1, size=(100000, 100000), chunks=(10000, 10000))"
   ]
  },
  {
   "cell_type": "code",
   "execution_count": null,
   "metadata": {},
   "outputs": [],
   "source": [
    "%%time\n",
    "with ProgressBar(), ResourceProfiler() as prof:\n",
    "    (x + 1)[::2, ::2].sum().compute(scheduler='threads')\n",
    "prof.visualize()"
   ]
  },
  {
   "cell_type": "code",
   "execution_count": null,
   "metadata": {},
   "outputs": [],
   "source": [
    "rs = da.random.RandomState(RandomState=cupy.random.RandomState)  # <-- we specify cupy here\n",
    "x = rs.normal(10, 1, size=(50000, 50000), chunks=(10000, 10000))"
   ]
  },
  {
   "cell_type": "code",
   "execution_count": null,
   "metadata": {},
   "outputs": [],
   "source": [
    "%%time\n",
    "with ProgressBar(), ResourceProfiler() as prof:\n",
    "    (x + 1)[::2, ::2].sum().compute(scheduler='threads')\n",
    "prof.visualize()"
   ]
  },
  {
   "cell_type": "code",
   "execution_count": null,
   "metadata": {},
   "outputs": [],
   "source": []
  }
 ],
 "metadata": {
  "kernelspec": {
   "display_name": "Python 3",
   "language": "python",
   "name": "python3"
  },
  "language_info": {
   "codemirror_mode": {
    "name": "ipython",
    "version": 3
   },
   "file_extension": ".py",
   "mimetype": "text/x-python",
   "name": "python",
   "nbconvert_exporter": "python",
   "pygments_lexer": "ipython3",
   "version": "3.8.5"
  }
 },
 "nbformat": 4,
 "nbformat_minor": 4
}
