{
 "cells": [
  {
   "cell_type": "code",
   "execution_count": 1,
   "id": "entire-mobile",
   "metadata": {},
   "outputs": [],
   "source": [
    "from dask.distributed import Client, performance_report, get_task_stream\n",
    "from dask.diagnostics import ProgressBar, ResourceProfiler\n",
    "\n",
    "from sgkit.distance.api import pairwise_distance\n",
    "import dask.array as da\n",
    "import fsspec, zarr\n",
    "\n",
    "# holds dask client\n",
    "c = None"
   ]
  },
  {
   "cell_type": "code",
   "execution_count": 2,
   "id": "historic-favor",
   "metadata": {},
   "outputs": [],
   "source": [
    "def get_dask_cluster(target=\"cpu\"):\n",
    "    if c:\n",
    "        c and c.shutdown()\n",
    "        time.sleep(11)\n",
    "    if target == \"cpu\":\n",
    "        print(f\"Target: {target}\")\n",
    "        client = Client()\n",
    "    else:\n",
    "        from dask_cuda import LocalCUDACluster\n",
    "        cluster = LocalCUDACluster()\n",
    "        client = Client(cluster)\n",
    "    return client"
   ]
  },
  {
   "cell_type": "markdown",
   "id": "annoying-slovakia",
   "metadata": {},
   "source": [
    "## Create GPU Dask Cluster"
   ]
  },
  {
   "cell_type": "code",
   "execution_count": 3,
   "id": "allied-lindsay",
   "metadata": {},
   "outputs": [
    {
     "data": {
      "text/html": [
       "<table style=\"border: 2px solid white;\">\n",
       "<tr>\n",
       "<td style=\"vertical-align: top; border: 0px solid white\">\n",
       "<h3 style=\"text-align: left;\">Client</h3>\n",
       "<ul style=\"text-align: left; list-style: none; margin: 0; padding: 0;\">\n",
       "  <li><b>Scheduler: </b>tcp://127.0.0.1:43649</li>\n",
       "  <li><b>Dashboard: </b><a href='http://127.0.0.1:8787/status' target='_blank'>http://127.0.0.1:8787/status</a></li>\n",
       "</ul>\n",
       "</td>\n",
       "<td style=\"vertical-align: top; border: 0px solid white\">\n",
       "<h3 style=\"text-align: left;\">Cluster</h3>\n",
       "<ul style=\"text-align: left; list-style:none; margin: 0; padding: 0;\">\n",
       "  <li><b>Workers: </b>2</li>\n",
       "  <li><b>Cores: </b>2</li>\n",
       "  <li><b>Memory: </b>67.47 GB</li>\n",
       "</ul>\n",
       "</td>\n",
       "</tr>\n",
       "</table>"
      ],
      "text/plain": [
       "<Client: 'tcp://127.0.0.1:43649' processes=2 threads=2, memory=67.47 GB>"
      ]
     },
     "execution_count": 3,
     "metadata": {},
     "output_type": "execute_result"
    }
   ],
   "source": [
    "c = get_dask_cluster(target=\"gpu\")\n",
    "c"
   ]
  },
  {
   "cell_type": "markdown",
   "id": "celtic-closer",
   "metadata": {},
   "source": [
    "## Load MalariaGEN Data"
   ]
  },
  {
   "cell_type": "code",
   "execution_count": 5,
   "id": "connected-lebanon",
   "metadata": {},
   "outputs": [
    {
     "data": {
      "text/html": [
       "<table>\n",
       "<tr>\n",
       "<td>\n",
       "<table>\n",
       "  <thead>\n",
       "    <tr><td> </td><th> Array </th><th> Chunk </th></tr>\n",
       "  </thead>\n",
       "  <tbody>\n",
       "    <tr><th> Bytes </th><td> 28.28 GB </td> <td> 114.20 MB </td></tr>\n",
       "    <tr><th> Shape </th><td> (1142, 24767689) </td> <td> (1142, 100000) </td></tr>\n",
       "    <tr><th> Count </th><td> 5084 Tasks </td><td> 248 Chunks </td></tr>\n",
       "    <tr><th> Type </th><td> int8 </td><td> numpy.ndarray </td></tr>\n",
       "  </tbody>\n",
       "</table>\n",
       "</td>\n",
       "<td>\n",
       "<svg width=\"170\" height=\"75\" style=\"stroke:rgb(0,0,0);stroke-width:1\" >\n",
       "\n",
       "  <!-- Horizontal lines -->\n",
       "  <line x1=\"0\" y1=\"0\" x2=\"120\" y2=\"0\" style=\"stroke-width:2\" />\n",
       "  <line x1=\"0\" y1=\"25\" x2=\"120\" y2=\"25\" style=\"stroke-width:2\" />\n",
       "\n",
       "  <!-- Vertical lines -->\n",
       "  <line x1=\"0\" y1=\"0\" x2=\"0\" y2=\"25\" style=\"stroke-width:2\" />\n",
       "  <line x1=\"6\" y1=\"0\" x2=\"6\" y2=\"25\" />\n",
       "  <line x1=\"12\" y1=\"0\" x2=\"12\" y2=\"25\" />\n",
       "  <line x1=\"18\" y1=\"0\" x2=\"18\" y2=\"25\" />\n",
       "  <line x1=\"25\" y1=\"0\" x2=\"25\" y2=\"25\" />\n",
       "  <line x1=\"31\" y1=\"0\" x2=\"31\" y2=\"25\" />\n",
       "  <line x1=\"37\" y1=\"0\" x2=\"37\" y2=\"25\" />\n",
       "  <line x1=\"44\" y1=\"0\" x2=\"44\" y2=\"25\" />\n",
       "  <line x1=\"50\" y1=\"0\" x2=\"50\" y2=\"25\" />\n",
       "  <line x1=\"56\" y1=\"0\" x2=\"56\" y2=\"25\" />\n",
       "  <line x1=\"62\" y1=\"0\" x2=\"62\" y2=\"25\" />\n",
       "  <line x1=\"69\" y1=\"0\" x2=\"69\" y2=\"25\" />\n",
       "  <line x1=\"75\" y1=\"0\" x2=\"75\" y2=\"25\" />\n",
       "  <line x1=\"81\" y1=\"0\" x2=\"81\" y2=\"25\" />\n",
       "  <line x1=\"88\" y1=\"0\" x2=\"88\" y2=\"25\" />\n",
       "  <line x1=\"94\" y1=\"0\" x2=\"94\" y2=\"25\" />\n",
       "  <line x1=\"100\" y1=\"0\" x2=\"100\" y2=\"25\" />\n",
       "  <line x1=\"107\" y1=\"0\" x2=\"107\" y2=\"25\" />\n",
       "  <line x1=\"113\" y1=\"0\" x2=\"113\" y2=\"25\" />\n",
       "  <line x1=\"120\" y1=\"0\" x2=\"120\" y2=\"25\" style=\"stroke-width:2\" />\n",
       "\n",
       "  <!-- Colored Rectangle -->\n",
       "  <polygon points=\"0.0,0.0 120.0,0.0 120.0,25.412616514582485 0.0,25.412616514582485\" style=\"fill:#8B4903A0;stroke-width:0\"/>\n",
       "\n",
       "  <!-- Text -->\n",
       "  <text x=\"60.000000\" y=\"45.412617\" font-size=\"1.0rem\" font-weight=\"100\" text-anchor=\"middle\" >24767689</text>\n",
       "  <text x=\"140.000000\" y=\"12.706308\" font-size=\"1.0rem\" font-weight=\"100\" text-anchor=\"middle\" transform=\"rotate(-90,140.000000,12.706308)\">1142</text>\n",
       "</svg>\n",
       "</td>\n",
       "</tr>\n",
       "</table>"
      ],
      "text/plain": [
       "dask.array<rechunk-merge, shape=(1142, 24767689), dtype=int8, chunksize=(1142, 100000), chunktype=numpy.ndarray>"
      ]
     },
     "execution_count": 5,
     "metadata": {},
     "output_type": "execute_result"
    }
   ],
   "source": [
    "store = fsspec.get_mapper('gs://ag1000g-release/phase2.AR1/variation/main/zarr/all/ag1000g.phase2.ar1')\n",
    "callset_snps = zarr.open_consolidated(store=store)\n",
    "gt = callset_snps['2R/calldata/GT']\n",
    "\n",
    "gt_da = da.from_zarr(gt)\n",
    "x = gt_da[:, :, 1].T\n",
    "x = x.rechunk((-1, 100000))\n",
    "x"
   ]
  },
  {
   "cell_type": "code",
   "execution_count": 6,
   "id": "oriented-objective",
   "metadata": {},
   "outputs": [],
   "source": [
    "def run_with_report(x, metric, target, report_name):\n",
    "    with performance_report(filename=f\"dask-report-{metric}-{report_name}.html\"), get_task_stream(filename=f\"task-stream-{metric}-{report_name}.html\"):\n",
    "        out = pairwise_distance(x, metric=metric, target=target)\n",
    "        out.compute()"
   ]
  },
  {
   "cell_type": "markdown",
   "id": "engaged-disease",
   "metadata": {},
   "source": [
    "## Pairwise Distance: Euclidean Metric"
   ]
  },
  {
   "cell_type": "code",
   "execution_count": 8,
   "id": "useful-latter",
   "metadata": {},
   "outputs": [
    {
     "name": "stdout",
     "output_type": "stream",
     "text": [
      "CPU times: user 2min 48s, sys: 4.32 s, total: 2min 52s\n",
      "Wall time: 5min 44s\n"
     ]
    }
   ],
   "source": [
    "%%time\n",
    "run_with_report(x, metric=\"euclidean\", target=\"gpu\", report_name=\"full\")"
   ]
  },
  {
   "cell_type": "markdown",
   "id": "distant-title",
   "metadata": {},
   "source": [
    "## Pairwise Distance: Correlation Metric"
   ]
  },
  {
   "cell_type": "code",
   "execution_count": 9,
   "id": "terminal-ceramic",
   "metadata": {},
   "outputs": [
    {
     "name": "stdout",
     "output_type": "stream",
     "text": [
      "CPU times: user 10min 4s, sys: 10.5 s, total: 10min 15s\n",
      "Wall time: 10min 52s\n"
     ]
    }
   ],
   "source": [
    "%%time\n",
    "run_with_report(x, metric=\"correlation\", target=\"gpu\", report_name=\"full\")"
   ]
  },
  {
   "cell_type": "code",
   "execution_count": null,
   "id": "attended-opening",
   "metadata": {},
   "outputs": [],
   "source": []
  }
 ],
 "metadata": {
  "kernelspec": {
   "display_name": "Python 3",
   "language": "python",
   "name": "python3"
  },
  "language_info": {
   "codemirror_mode": {
    "name": "ipython",
    "version": 3
   },
   "file_extension": ".py",
   "mimetype": "text/x-python",
   "name": "python",
   "nbconvert_exporter": "python",
   "pygments_lexer": "ipython3",
   "version": "3.8.8"
  }
 },
 "nbformat": 4,
 "nbformat_minor": 5
}
